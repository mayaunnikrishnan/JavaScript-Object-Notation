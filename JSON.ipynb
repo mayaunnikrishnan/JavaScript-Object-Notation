{
  "nbformat": 4,
  "nbformat_minor": 0,
  "metadata": {
    "colab": {
      "provenance": []
    },
    "kernelspec": {
      "name": "python3",
      "display_name": "Python 3"
    },
    "language_info": {
      "name": "python"
    }
  },
  "cells": [
    {
      "cell_type": "markdown",
      "source": [
        "# **JavaScript Object Notation:**\n",
        "\n",
        "JSON (JavaScript Object Notation) is a lightweight data interchange format that is commonly used for transmitting data between a server and a web application, or between different parts of an application.\n",
        "\n",
        "(When people build websites, apps, or even games, they often need to send and receive lots of information. JSON is like the language they use to make sure the information gets sent correctly and understood by the computer on the other side. It's like a code that helps computers share and understand data,)\n",
        "\n",
        "JSON Syntax:\n",
        "\n",
        "JSON syntax is derived from JavaScript object notation syntax.\n",
        "\n",
        "It consists of data in name/value pairs, where the data types include:\n",
        "\n",
        "Array: An associative array of values.\n",
        "\n",
        "Boolean: True or false.\n",
        "\n",
        "Number: An integer.\n",
        "\n",
        "Object: An associative array of key/value pairs.\n",
        "\n",
        "String: A sequence of plain text characters.\n",
        "\n",
        "Null: A special value indicating the absence of data.\n",
        "\n",
        "Data in JSON is separated by commas, and curly braces are used to hold objects.\n",
        "\n",
        "##Serialization\n",
        "Writing JSON to a File in Python:\n",
        "\n",
        "\n",
        "\n",
        "Method 1: **json.dumps()**\n",
        "\n",
        "json.dumps() is used to convert a dictionary to a JSON object and then write it to a file."
      ],
      "metadata": {
        "id": "S35MzaG-kerw"
      }
    },
    {
      "cell_type": "code",
      "execution_count": null,
      "metadata": {
        "id": "8T65Gh_nkFau"
      },
      "outputs": [],
      "source": [
        "import json\n",
        "\n",
        "data = {\"name\": \"Thanos\", \"Occupation\": \"Destroying half of humanity\"}\n",
        "json_data = json.dumps(data, indent=4)  # Convert to JSON string with indentation\n",
        "with open(\"output.json\", \"w\") as file:\n",
        "    file.write(json_data)\n"
      ]
    },
    {
      "cell_type": "markdown",
      "source": [
        "Method 2: **json.dump()**\n",
        "\n",
        "json.dump() directly writes a dictionary to a file in JSON format."
      ],
      "metadata": {
        "id": "P7sKYXJIlnMv"
      }
    },
    {
      "cell_type": "code",
      "source": [
        "import json\n",
        "\n",
        "data = {\"name\": \"Thanos\", \"Occupation\": \"Destroying half of humanity\"}\n",
        "with open(\"output.json\", \"w\") as file:\n",
        "    json.dump(data, file, indent=4)  # Write dictionary directly to file as JSON\n"
      ],
      "metadata": {
        "id": "Lq71xChJlmtQ"
      },
      "execution_count": null,
      "outputs": []
    },
    {
      "cell_type": "markdown",
      "source": [
        "##Deserialization\n",
        "\n",
        "Deserialization is the process of converting JSON data back into its native data types in Python\n",
        "\n",
        "Method 1: **json.load()**\n",
        "\n",
        "json.load() is used to read and deserialize JSON data from a file object. It returns a Python dictionary that represents the JSON data.\n",
        "\n"
      ],
      "metadata": {
        "id": "ZsP-t_AZmOKQ"
      }
    },
    {
      "cell_type": "code",
      "source": [
        "import json\n",
        "\n",
        "with open(\"input.json\", \"r\") as file:\n",
        "    json_data = json.load(file)  # Deserialize JSON data from file into a dictionary\n",
        "print(json_data)"
      ],
      "metadata": {
        "id": "1VO7QciVmXZo"
      },
      "execution_count": null,
      "outputs": []
    },
    {
      "cell_type": "markdown",
      "source": [
        "Method 2: **json.loads()**\n",
        "\n",
        "json.loads() is used to deserialize a JSON-formatted string, byte array, or bytes-like object directly into a Python dictionary."
      ],
      "metadata": {
        "id": "2-zNYDydmYUo"
      }
    },
    {
      "cell_type": "code",
      "source": [
        "import json\n",
        "\n",
        "json_string = '{\"name\": \"Thanos\", \"Occupation\": \"Destroying half of humanity\"}'\n",
        "data_dict = json.loads(json_string)  # Deserialize JSON string into a dictionary\n",
        "data_dict"
      ],
      "metadata": {
        "colab": {
          "base_uri": "https://localhost:8080/"
        },
        "id": "HqeVN6cymYdh",
        "outputId": "bec9aeee-3541-4a48-ee99-e12a06209350"
      },
      "execution_count": null,
      "outputs": [
        {
          "output_type": "execute_result",
          "data": {
            "text/plain": [
              "{'name': 'Thanos', 'Occupation': 'Destroying half of humanity'}"
            ]
          },
          "metadata": {},
          "execution_count": 7
        }
      ]
    },
    {
      "cell_type": "markdown",
      "source": [
        "In both methods, the result is a Python dictionary that contains the data represented in the JSON format. Remember that the json.load() method is used when reading from a file, while the json.loads() method is used when working with a JSON-formatted string directly."
      ],
      "metadata": {
        "id": "_CbxC5rRmmgH"
      }
    },
    {
      "cell_type": "markdown",
      "source": [
        "##To append data to a JSON file in Python\n",
        "\n",
        "**Read the Existing Data**: Load the existing JSON data from the file.\n",
        "\n",
        "**Append New Data**: Add the new data to the loaded dictionary.\n",
        "\n",
        "**Write Back to the File**: Serialize the updated dictionary and write it back to the file."
      ],
      "metadata": {
        "id": "5lmYB339moqA"
      }
    },
    {
      "cell_type": "code",
      "source": [
        "import json\n",
        "\n",
        "# Step 1: Read existing JSON data from the file\n",
        "with open(\"output.json\", \"r\") as file:\n",
        "    existing_data = json.load(file)\n",
        "\n",
        "# Step 2: Append new data to the loaded dictionary\n",
        "new_data = {\"name\": \"Iron Man\", \"Occupation\": \"Superhero\"}\n",
        "existing_data.update(new_data)\n",
        "\n",
        "# Step 3: Write the updated data back to the file\n",
        "with open(\"output.json\", \"w\") as file:\n",
        "    json.dump(existing_data, file, indent=4)\n"
      ],
      "metadata": {
        "id": "gH_fZRsrmoA3"
      },
      "execution_count": null,
      "outputs": []
    },
    {
      "cell_type": "markdown",
      "source": [
        "##Encoding and Decoding:\n",
        "\n",
        "**Encoding** refers to converting data or text from one format to another, such as converting data into an encoded representation.\n",
        "\n",
        "**Decoding** is the process of converting the encoded data back to its original format.\n",
        "\n",
        "**JSON Encoding and Decoding in Python**:\n",
        "\n",
        "In Python, the built-in json module is commonly used for encoding and decoding JSON data.\n",
        "\n",
        "The **json.dumps() function** is used to encode a Python object into a JSON-formatted string.\n",
        "\n",
        "The **json.loads() function** is used to decode a JSON-formatted string into a Python object."
      ],
      "metadata": {
        "id": "2UlJ3j9Hn6y-"
      }
    },
    {
      "cell_type": "code",
      "source": [
        "import json\n",
        "\n",
        "# Encoding (Python object to JSON string)\n",
        "data = {\"name\": \"Thanos\", \"Occupation\": \"Destroying half of humanity\"}\n",
        "json_string = json.dumps(data)\n",
        "print(json_string)\n",
        "\n",
        "# Decoding (JSON string to Python object)\n",
        "decoded_data = json.loads(json_string)\n",
        "print(decoded_data)\n"
      ],
      "metadata": {
        "colab": {
          "base_uri": "https://localhost:8080/"
        },
        "id": "oOzQF7q8oEsH",
        "outputId": "40a06ec1-6595-40e0-dd24-70917fc38023"
      },
      "execution_count": null,
      "outputs": [
        {
          "output_type": "stream",
          "name": "stdout",
          "text": [
            "{\"name\": \"Thanos\", \"Occupation\": \"Destroying half of humanity\"}\n",
            "{'name': 'Thanos', 'Occupation': 'Destroying half of humanity'}\n"
          ]
        }
      ]
    },
    {
      "cell_type": "markdown",
      "source": [
        "## **For practice:**\n",
        "\n",
        "1. Imagine you have a list of books with their titles and authors. How would you represent this data using JSON?\n",
        "\n",
        "2. You're building a weather app, and you need to send weather information like temperature and conditions to your app from a server. How could you use JSON to structure and send this data?\n",
        "\n",
        "3. You're working on a game, and you want to save a player's progress, including their level, score, and items collected. How could you store this player data in a JSON file?\n",
        "\n",
        "4. You're developing a chat application, and you need to exchange messages between users. How might you use JSON to format these messages for sending and receiving?\n",
        "\n",
        "5. You want to share information about different countries, including their names, populations, and languages spoken. How could you organize and represent this information using JSON?"
      ],
      "metadata": {
        "id": "cmZk_EUTqqW1"
      }
    },
    {
      "cell_type": "code",
      "source": [
        "import json\n",
        "\n",
        "books = [\n",
        "    {\"title\": \"Harry Potter\", \"author\": \"J.K. Rowling\"},\n",
        "    {\"title\": \"The Hobbit\", \"author\": \"J.R.R. Tolkien\"}\n",
        "]\n",
        "\n",
        "# Convert list of books to JSON and print it\n",
        "books_json = json.dumps(books, indent=4)\n",
        "print(books_json)\n"
      ],
      "metadata": {
        "colab": {
          "base_uri": "https://localhost:8080/"
        },
        "id": "zkSgsxviq3yF",
        "outputId": "1946175a-d334-455a-b7c8-5e4f2b214b22"
      },
      "execution_count": null,
      "outputs": [
        {
          "output_type": "stream",
          "name": "stdout",
          "text": [
            "[\n",
            "    {\n",
            "        \"title\": \"Harry Potter\",\n",
            "        \"author\": \"J.K. Rowling\"\n",
            "    },\n",
            "    {\n",
            "        \"title\": \"The Hobbit\",\n",
            "        \"author\": \"J.R.R. Tolkien\"\n",
            "    }\n",
            "]\n"
          ]
        }
      ]
    },
    {
      "cell_type": "code",
      "source": [
        "import json\n",
        "\n",
        "weather_data = {\n",
        "    \"temperature\": 25,\n",
        "    \"conditions\": \"Sunny\"\n",
        "}\n",
        "\n",
        "# Convert weather data to JSON and print it\n",
        "weather_json = json.dumps(weather_data, indent=4)\n",
        "print(weather_json)\n"
      ],
      "metadata": {
        "colab": {
          "base_uri": "https://localhost:8080/"
        },
        "id": "Jelqe0J9q4Fe",
        "outputId": "e0e5370c-7944-4d5c-c2f1-b3e6e5e45ac5"
      },
      "execution_count": null,
      "outputs": [
        {
          "output_type": "stream",
          "name": "stdout",
          "text": [
            "{\n",
            "    \"temperature\": 25,\n",
            "    \"conditions\": \"Sunny\"\n",
            "}\n"
          ]
        }
      ]
    },
    {
      "cell_type": "code",
      "source": [
        "import json\n",
        "\n",
        "player_data = {\n",
        "    \"player\": {\n",
        "        \"level\": 5,\n",
        "        \"score\": 1200,\n",
        "        \"items\": [\"sword\", \"shield\", \"potion\"]\n",
        "    }\n",
        "}\n",
        "\n",
        "# Convert player data to JSON and print it\n",
        "player_json = json.dumps(player_data, indent=4)\n",
        "print(player_json)\n"
      ],
      "metadata": {
        "colab": {
          "base_uri": "https://localhost:8080/"
        },
        "id": "CxQJJ2LXq4Iw",
        "outputId": "0d14d9ab-89bb-4f4d-a88f-a92fa252ae68"
      },
      "execution_count": null,
      "outputs": [
        {
          "output_type": "stream",
          "name": "stdout",
          "text": [
            "{\n",
            "    \"player\": {\n",
            "        \"level\": 5,\n",
            "        \"score\": 1200,\n",
            "        \"items\": [\n",
            "            \"sword\",\n",
            "            \"shield\",\n",
            "            \"potion\"\n",
            "        ]\n",
            "    }\n",
            "}\n"
          ]
        }
      ]
    },
    {
      "cell_type": "code",
      "source": [
        "import json\n",
        "\n",
        "chat_message = {\n",
        "    \"sender\": \"Alice\",\n",
        "    \"message\": \"Hello, how are you?\",\n",
        "    \"timestamp\": \"2023-09-01T14:30:00\"\n",
        "}\n",
        "\n",
        "# Convert chat message to JSON and print it\n",
        "message_json = json.dumps(chat_message, indent=4)\n",
        "print(message_json)\n"
      ],
      "metadata": {
        "colab": {
          "base_uri": "https://localhost:8080/"
        },
        "id": "dbePLOY_q4LY",
        "outputId": "08c66b44-7525-4a6a-ac99-bbd4e361f5d3"
      },
      "execution_count": null,
      "outputs": [
        {
          "output_type": "stream",
          "name": "stdout",
          "text": [
            "{\n",
            "    \"sender\": \"Alice\",\n",
            "    \"message\": \"Hello, how are you?\",\n",
            "    \"timestamp\": \"2023-09-01T14:30:00\"\n",
            "}\n"
          ]
        }
      ]
    },
    {
      "cell_type": "code",
      "source": [
        "import json\n",
        "\n",
        "countries = [\n",
        "    {\"name\": \"United States\", \"population\": 331000000, \"languages\": [\"English\"]},\n",
        "    {\"name\": \"China\", \"population\": 1441000000, \"languages\": [\"Chinese\"]}\n",
        "]\n",
        "\n",
        "# Convert list of countries to JSON and print it\n",
        "countries_json = json.dumps(countries, indent=4)\n",
        "print(countries_json)\n"
      ],
      "metadata": {
        "colab": {
          "base_uri": "https://localhost:8080/"
        },
        "id": "SW0c7ufiq4OQ",
        "outputId": "cbad8bad-c792-4060-9107-f143c7afdbfb"
      },
      "execution_count": null,
      "outputs": [
        {
          "output_type": "stream",
          "name": "stdout",
          "text": [
            "[\n",
            "    {\n",
            "        \"name\": \"United States\",\n",
            "        \"population\": 331000000,\n",
            "        \"languages\": [\n",
            "            \"English\"\n",
            "        ]\n",
            "    },\n",
            "    {\n",
            "        \"name\": \"China\",\n",
            "        \"population\": 1441000000,\n",
            "        \"languages\": [\n",
            "            \"Chinese\"\n",
            "        ]\n",
            "    }\n",
            "]\n"
          ]
        }
      ]
    }
  ]
}